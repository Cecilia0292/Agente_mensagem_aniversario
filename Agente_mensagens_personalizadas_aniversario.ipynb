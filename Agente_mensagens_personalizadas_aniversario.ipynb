{
  "nbformat": 4,
  "nbformat_minor": 0,
  "metadata": {
    "colab": {
      "provenance": []
    },
    "kernelspec": {
      "name": "python3",
      "display_name": "Python 3"
    },
    "language_info": {
      "name": "python"
    }
  },
  "cells": [
    {
      "cell_type": "code",
      "source": [
        "%pip -q install google-genai"
      ],
      "metadata": {
        "id": "UCCbECexLk_h"
      },
      "execution_count": 1,
      "outputs": []
    },
    {
      "cell_type": "code",
      "source": [
        "# Configura a API Key do Google Gemini\n",
        "\n",
        "import os\n",
        "from google.colab import userdata\n",
        "\n",
        "os.environ[\"GOOGLE_API_KEY\"] = userdata.get('GOOGLE_API_KEY')"
      ],
      "metadata": {
        "id": "NfCqHo1tLk8P"
      },
      "execution_count": 2,
      "outputs": []
    },
    {
      "cell_type": "code",
      "source": [
        "# Configura o cliente da SDK do Gemini\n",
        "\n",
        "from google import genai\n",
        "\n",
        "client = genai.Client()\n",
        "\n",
        "MODEL_ID = \"gemini-2.0-flash\""
      ],
      "metadata": {
        "id": "bV4w0H5TLk5g"
      },
      "execution_count": 3,
      "outputs": []
    },
    {
      "cell_type": "code",
      "source": [
        "# Instalar Framework de agentes do Google ################################################\n",
        "!pip install -q google-adk"
      ],
      "metadata": {
        "colab": {
          "base_uri": "https://localhost:8080/"
        },
        "id": "a1eRPalxEnj7",
        "outputId": "93b04ad6-1379-46af-fb8f-af3e572517b7"
      },
      "execution_count": 6,
      "outputs": [
        {
          "output_type": "stream",
          "name": "stdout",
          "text": [
            "\u001b[?25l   \u001b[90m━━━━━━━━━━━━━━━━━━━━━━━━━━━━━━━━━━━━━━━━\u001b[0m \u001b[32m0.0/1.2 MB\u001b[0m \u001b[31m?\u001b[0m eta \u001b[36m-:--:--\u001b[0m\r\u001b[2K   \u001b[91m━━━━━━━━━━━━━━━━━━━━━━━━━━━━━━━━━━━━━━━\u001b[0m\u001b[91m╸\u001b[0m \u001b[32m1.2/1.2 MB\u001b[0m \u001b[31m46.4 MB/s\u001b[0m eta \u001b[36m0:00:01\u001b[0m\r\u001b[2K   \u001b[90m━━━━━━━━━━━━━━━━━━━━━━━━━━━━━━━━━━━━━━━━\u001b[0m \u001b[32m1.2/1.2 MB\u001b[0m \u001b[31m21.9 MB/s\u001b[0m eta \u001b[36m0:00:00\u001b[0m\n",
            "\u001b[?25h\u001b[?25l   \u001b[90m━━━━━━━━━━━━━━━━━━━━━━━━━━━━━━━━━━━━━━━━\u001b[0m \u001b[32m0.0/232.1 kB\u001b[0m \u001b[31m?\u001b[0m eta \u001b[36m-:--:--\u001b[0m\r\u001b[2K   \u001b[90m━━━━━━━━━━━━━━━━━━━━━━━━━━━━━━━━━━━━━━━━\u001b[0m \u001b[32m232.1/232.1 kB\u001b[0m \u001b[31m12.2 MB/s\u001b[0m eta \u001b[36m0:00:00\u001b[0m\n",
            "\u001b[?25h\u001b[?25l   \u001b[90m━━━━━━━━━━━━━━━━━━━━━━━━━━━━━━━━━━━━━━━━\u001b[0m \u001b[32m0.0/95.2 kB\u001b[0m \u001b[31m?\u001b[0m eta \u001b[36m-:--:--\u001b[0m\r\u001b[2K   \u001b[90m━━━━━━━━━━━━━━━━━━━━━━━━━━━━━━━━━━━━━━━━\u001b[0m \u001b[32m95.2/95.2 kB\u001b[0m \u001b[31m5.4 MB/s\u001b[0m eta \u001b[36m0:00:00\u001b[0m\n",
            "\u001b[?25h\u001b[?25l   \u001b[90m━━━━━━━━━━━━━━━━━━━━━━━━━━━━━━━━━━━━━━━━\u001b[0m \u001b[32m0.0/217.1 kB\u001b[0m \u001b[31m?\u001b[0m eta \u001b[36m-:--:--\u001b[0m\r\u001b[2K   \u001b[90m━━━━━━━━━━━━━━━━━━━━━━━━━━━━━━━━━━━━━━━━\u001b[0m \u001b[32m217.1/217.1 kB\u001b[0m \u001b[31m13.2 MB/s\u001b[0m eta \u001b[36m0:00:00\u001b[0m\n",
            "\u001b[2K   \u001b[90m━━━━━━━━━━━━━━━━━━━━━━━━━━━━━━━━━━━━━━━━\u001b[0m \u001b[32m334.1/334.1 kB\u001b[0m \u001b[31m15.6 MB/s\u001b[0m eta \u001b[36m0:00:00\u001b[0m\n",
            "\u001b[2K   \u001b[90m━━━━━━━━━━━━━━━━━━━━━━━━━━━━━━━━━━━━━━━━\u001b[0m \u001b[32m125.1/125.1 kB\u001b[0m \u001b[31m7.2 MB/s\u001b[0m eta \u001b[36m0:00:00\u001b[0m\n",
            "\u001b[2K   \u001b[90m━━━━━━━━━━━━━━━━━━━━━━━━━━━━━━━━━━━━━━━━\u001b[0m \u001b[32m65.8/65.8 kB\u001b[0m \u001b[31m3.2 MB/s\u001b[0m eta \u001b[36m0:00:00\u001b[0m\n",
            "\u001b[2K   \u001b[90m━━━━━━━━━━━━━━━━━━━━━━━━━━━━━━━━━━━━━━━━\u001b[0m \u001b[32m119.0/119.0 kB\u001b[0m \u001b[31m7.7 MB/s\u001b[0m eta \u001b[36m0:00:00\u001b[0m\n",
            "\u001b[2K   \u001b[90m━━━━━━━━━━━━━━━━━━━━━━━━━━━━━━━━━━━━━━━━\u001b[0m \u001b[32m194.9/194.9 kB\u001b[0m \u001b[31m13.4 MB/s\u001b[0m eta \u001b[36m0:00:00\u001b[0m\n",
            "\u001b[2K   \u001b[90m━━━━━━━━━━━━━━━━━━━━━━━━━━━━━━━━━━━━━━━━\u001b[0m \u001b[32m62.5/62.5 kB\u001b[0m \u001b[31m2.9 MB/s\u001b[0m eta \u001b[36m0:00:00\u001b[0m\n",
            "\u001b[2K   \u001b[90m━━━━━━━━━━━━━━━━━━━━━━━━━━━━━━━━━━━━━━━━\u001b[0m \u001b[32m103.3/103.3 kB\u001b[0m \u001b[31m7.1 MB/s\u001b[0m eta \u001b[36m0:00:00\u001b[0m\n",
            "\u001b[2K   \u001b[90m━━━━━━━━━━━━━━━━━━━━━━━━━━━━━━━━━━━━━━━━\u001b[0m \u001b[32m44.4/44.4 kB\u001b[0m \u001b[31m2.3 MB/s\u001b[0m eta \u001b[36m0:00:00\u001b[0m\n",
            "\u001b[2K   \u001b[90m━━━━━━━━━━━━━━━━━━━━━━━━━━━━━━━━━━━━━━━━\u001b[0m \u001b[32m72.0/72.0 kB\u001b[0m \u001b[31m4.4 MB/s\u001b[0m eta \u001b[36m0:00:00\u001b[0m\n",
            "\u001b[?25h"
          ]
        }
      ]
    },
    {
      "cell_type": "code",
      "execution_count": 25,
      "metadata": {
        "id": "aePV2bdfDeoW"
      },
      "outputs": [],
      "source": [
        "from google.adk.agents import Agent\n",
        "from google.adk.runners import Runner\n",
        "from google.adk.sessions import InMemorySessionService\n",
        "from google.adk.tools import google_search\n",
        "from google.genai import types  # Para criar conteúdos (Content e Part)\n",
        "from datetime import date\n",
        "import textwrap # Para formatar melhor a saída de texto\n",
        "from IPython.display import display, Markdown # Para exibir texto formatado no Colab\n",
        "import requests # Para fazer requisições HTTP\n",
        "import warnings\n",
        "\n",
        "warnings.filterwarnings(\"ignore\")"
      ]
    },
    {
      "cell_type": "code",
      "source": [
        "# Função auxiliar que envia uma mensagem para um agente via Runner e retorna a resposta final\n",
        "def call_agent(agent: Agent, message_text: str) -> str:\n",
        "    # Cria um serviço de sessão em memória\n",
        "    session_service = InMemorySessionService()\n",
        "    # Cria uma nova sessão (você pode personalizar os IDs conforme necessário)\n",
        "    session = session_service.create_session(app_name=agent.name, user_id=\"user1\", session_id=\"session1\")\n",
        "    # Cria um Runner para o agente\n",
        "    runner = Runner(agent=agent, app_name=agent.name, session_service=session_service)\n",
        "    # Cria o conteúdo da mensagem de entrada\n",
        "    content = types.Content(role=\"user\", parts=[types.Part(text=message_text)])\n",
        "\n",
        "    final_response = \"\"\n",
        "    # Itera assincronamente pelos eventos retornados durante a execução do agente\n",
        "    for event in runner.run(user_id=\"user1\", session_id=\"session1\", new_message=content):\n",
        "        if event.is_final_response():\n",
        "          for part in event.content.parts:\n",
        "            if part.text is not None:\n",
        "              final_response += part.text\n",
        "              final_response += \"\\n\"\n",
        "    return final_response"
      ],
      "metadata": {
        "id": "_xP4lWhsS5ko"
      },
      "execution_count": 8,
      "outputs": []
    },
    {
      "cell_type": "code",
      "source": [
        "# Função auxiliar para exibir texto formatado em Markdown no Colab\n",
        "def to_markdown(text):\n",
        "  text = text.replace('•', '  *')\n",
        "  return Markdown(textwrap.indent(text, '> ', predicate=lambda _: True))"
      ],
      "metadata": {
        "id": "8dosiodaxfFR"
      },
      "execution_count": 9,
      "outputs": []
    },
    {
      "cell_type": "code",
      "source": [
        "##########################################\n",
        "# --- Agente 1: Coletor de Informações --- #\n",
        "##########################################\n",
        "from google.adk.agents import Agent\n",
        "from google.genai import types\n",
        "from google.adk.runners import Runner\n",
        "from google.adk.sessions import InMemorySessionService\n",
        "from datetime import date\n",
        "\n",
        "def agente_coletor():\n",
        "    coletor = Agent(\n",
        "        name=\"agente_coletor\",\n",
        "        model=\"gemini-2.0-flash\",\n",
        "        instruction=\"Você é um assistente que coleta informações para criar mensagens de aniversário. Peça detalhes adicionais ao usuário sobre cada aniversariante.\",\n",
        "        description=\"Agente que coleta informações de aniversários.\"\n",
        "    )\n",
        "    return coletor\n",
        "\n",
        "def coletar_informacoes_manualmente():\n",
        "    aniversariantes = []\n",
        "    while True:\n",
        "        nome = input(\"Digite o nome do aniversariante (ou 'fim' para encerrar): \")\n",
        "        if nome.lower() == 'fim':\n",
        "            break\n",
        "        aniversariantes.append(nome)\n",
        "    return aniversariantes\n",
        "\n",
        "# Função auxiliar que envia uma mensagem para um agente via Runner e retorna a resposta final\n",
        "def call_agent(agent: Agent, message_text: str) -> str:\n",
        "    print(f\"DEBUG: call_agent chamado para o agente '{agent.name}' com a mensagem: '{message_text}'\")  # DEBUG\n",
        "\n",
        "    # Cria um serviço de sessão em memória\n",
        "    session_service = InMemorySessionService()\n",
        "    # Cria uma nova sessão (você pode personalizar os IDs conforme necessário)\n",
        "    session = session_service.create_session(app_name=agent.name, user_id=\"user1\", session_id=\"session1\")\n",
        "    # Cria um Runner para o agente\n",
        "    runner = Runner(agent=agent, app_name=agent.name, session_service=session_service)\n",
        "    # Cria o conteúdo da mensagem de entrada\n",
        "    content = types.Content(role=\"user\", parts=[types.Part(text=message_text)])\n",
        "\n",
        "    final_response = \"\"\n",
        "    # Itera assincronamente pelos eventos retornados durante a execução do agente\n",
        "    for event in runner.run(user_id=\"user1\", session_id=\"session1\", new_message=content):\n",
        "        print(f\"DEBUG: call_agent recebeu evento: {event}\")  # DEBUG\n",
        "        if event.is_final_response():\n",
        "            for part in event.content.parts:\n",
        "                if part.text is not None:\n",
        "                    final_response += part.text\n",
        "                    final_response += \"\\n\"\n",
        "\n",
        "    print(f\"DEBUG: call_agent retornando: '{final_response}'\")  # DEBUG\n",
        "    return final_response\n",
        "\n",
        "# --- Fluxo Principal ---\n",
        "\n",
        "print(\"🎉 Gerador de Mensagens de Aniversário 🎉\")\n",
        "\n",
        "aniversariantes = coletar_informacoes_manualmente()\n",
        "\n",
        "if aniversariantes:\n",
        "    print(\"\\nAniversariantes:\")\n",
        "    for aniversariante in aniversariantes:\n",
        "        print(f\"- {aniversariante}\")\n",
        "\n",
        "    coletor = agente_coletor()\n",
        "    informacoes_coletadas = \"\"\n",
        "    for aniversariante in aniversariantes:\n",
        "        print(f\"DEBUG: Chamando call_agent para {aniversariante}\")  # DEBUG\n",
        "        detalhes = call_agent(coletor, f\"Informações sobre {aniversariante}: \")\n",
        "        print(f\"DEBUG: call_agent retornou para {aniversariante}: '{detalhes}'\")  # DEBUG\n",
        "        informacoes_coletadas += f\"\\n{aniversariante}: {detalhes}\"\n",
        "\n",
        "    print(\"\\n--- 📝 Informações Coletadas ---\\n\")\n",
        "    print(informacoes_coletadas)\n",
        "\n",
        "    # ... (Resto do seu código para gerar a mensagem)\n",
        "\n",
        "else:\n",
        "    print(\"Nenhum aniversariante inserido.\")"
      ],
      "metadata": {
        "id": "o8bqIfi_DyH8",
        "colab": {
          "base_uri": "https://localhost:8080/"
        },
        "outputId": "2404ebeb-1105-4732-da32-87697ebdf7e9"
      },
      "execution_count": 27,
      "outputs": [
        {
          "output_type": "stream",
          "name": "stdout",
          "text": [
            "🎉 Gerador de Mensagens de Aniversário 🎉\n",
            "Digite o nome do aniversariante (ou 'fim' para encerrar): ruthe\n",
            "Digite o nome do aniversariante (ou 'fim' para encerrar): fim\n",
            "\n",
            "Aniversariantes:\n",
            "- ruthe\n",
            "DEBUG: Chamando call_agent para ruthe\n",
            "DEBUG: call_agent chamado para o agente 'agente_coletor' com a mensagem: 'Informações sobre ruthe: '\n",
            "DEBUG: call_agent recebeu evento: content=Content(parts=[Part(video_metadata=None, thought=None, inline_data=None, code_execution_result=None, executable_code=None, file_data=None, function_call=None, function_response=None, text='Para criar uma mensagem de aniversário especial para Ruthe, preciso de mais algumas informações. Você poderia me dizer:\\n\\n*   **O que Ruthe significa para você?** (Amiga, familiar, colega de trabalho, etc.)\\n*   **Quais são os interesses ou hobbies dela?** (Livros, esportes, viagens, culinária, etc.)\\n*   **Existe alguma memória ou momento especial que vocês compartilharam?**\\n*   **Qual é o tipo de mensagem que você gostaria de enviar?** (Divertida, emocionante, inspiradora, etc.)\\n\\nQuanto mais detalhes você me fornecer, mais personalizada e significativa será a mensagem de aniversário.')], role='model') grounding_metadata=None partial=None turn_complete=None error_code=None error_message=None interrupted=None custom_metadata=None invocation_id='e-149c47ed-1708-4370-a8db-2a622fd69978' author='agente_coletor' actions=EventActions(skip_summarization=None, state_delta={}, artifact_delta={}, transfer_to_agent=None, escalate=None, requested_auth_configs={}) long_running_tool_ids=None branch=None id='oMgaybXJ' timestamp=1747521659.196742\n",
            "DEBUG: call_agent retornando: 'Para criar uma mensagem de aniversário especial para Ruthe, preciso de mais algumas informações. Você poderia me dizer:\n",
            "\n",
            "*   **O que Ruthe significa para você?** (Amiga, familiar, colega de trabalho, etc.)\n",
            "*   **Quais são os interesses ou hobbies dela?** (Livros, esportes, viagens, culinária, etc.)\n",
            "*   **Existe alguma memória ou momento especial que vocês compartilharam?**\n",
            "*   **Qual é o tipo de mensagem que você gostaria de enviar?** (Divertida, emocionante, inspiradora, etc.)\n",
            "\n",
            "Quanto mais detalhes você me fornecer, mais personalizada e significativa será a mensagem de aniversário.\n",
            "'\n",
            "DEBUG: call_agent retornou para ruthe: 'Para criar uma mensagem de aniversário especial para Ruthe, preciso de mais algumas informações. Você poderia me dizer:\n",
            "\n",
            "*   **O que Ruthe significa para você?** (Amiga, familiar, colega de trabalho, etc.)\n",
            "*   **Quais são os interesses ou hobbies dela?** (Livros, esportes, viagens, culinária, etc.)\n",
            "*   **Existe alguma memória ou momento especial que vocês compartilharam?**\n",
            "*   **Qual é o tipo de mensagem que você gostaria de enviar?** (Divertida, emocionante, inspiradora, etc.)\n",
            "\n",
            "Quanto mais detalhes você me fornecer, mais personalizada e significativa será a mensagem de aniversário.\n",
            "'\n",
            "\n",
            "--- 📝 Informações Coletadas ---\n",
            "\n",
            "\n",
            "ruthe: Para criar uma mensagem de aniversário especial para Ruthe, preciso de mais algumas informações. Você poderia me dizer:\n",
            "\n",
            "*   **O que Ruthe significa para você?** (Amiga, familiar, colega de trabalho, etc.)\n",
            "*   **Quais são os interesses ou hobbies dela?** (Livros, esportes, viagens, culinária, etc.)\n",
            "*   **Existe alguma memória ou momento especial que vocês compartilharam?**\n",
            "*   **Qual é o tipo de mensagem que você gostaria de enviar?** (Divertida, emocionante, inspiradora, etc.)\n",
            "\n",
            "Quanto mais detalhes você me fornecer, mais personalizada e significativa será a mensagem de aniversário.\n",
            "\n"
          ]
        }
      ]
    },
    {
      "cell_type": "code",
      "source": [
        "######################################\n",
        "# --- Agente 3: Redator aniversario --- #\n",
        "######################################\n",
        "def agente_redator_aniversario():\n",
        "    redator = Agent(\n",
        "        name=\"agente_redator_aniversario\",\n",
        "        model=\"gemini-2.5-pro-preview-03-25\",\n",
        "        instruction=\"\"\"\n",
        "            Você é um Redator Criativo especializado em criar mensagens de aniversário criativas e personalizadas.\n",
        "            Use as informações fornecidas para gerar uma mensagem única.\n",
        "            \"\"\",\n",
        "        description=\"Agente que gera mensagens de aniversário.\"\n",
        "    )\n",
        "    return redator"
      ],
      "metadata": {
        "id": "uOqlg2TRLVh1"
      },
      "execution_count": 14,
      "outputs": []
    },
    {
      "cell_type": "code",
      "source": [
        "from datetime import date\n",
        "\n",
        "data_de_hoje = date.today().strftime(\"%d/%m/%Y\")\n",
        "\n",
        "print(\"🎉 Gerador de Mensagens de Aniversário 🎉\")\n",
        "\n",
        "# --- Obter as Informações do Usuário ---\n",
        "nome_aniversariante = input(\"🎂  Digite o nome do aniversariante: \")\n",
        "detalhes_aniversariante = input(\n",
        "    \"✍️  Forneça detalhes sobre o aniversariante (personalidade, interesses, etc.): \"\n",
        ")\n",
        "# Inserir lógica do sistema de agentes ################################################\n",
        "if not nome_aniversariante:\n",
        "    print(\"Você esqueceu de digitar o nome do aniversariante!\")\n",
        "else:\n",
        "    print(f\"✨  Preparando mensagem para {nome_aniversariante}! ✨\")\n",
        "\n",
        "    informacoes = f\"Nome: {nome_aniversariante}\\\\nDetalhes: {detalhes_aniversariante}\\\\nData: {data_de_hoje}\"\n",
        "\n",
        "# Agente Redator (agora ele faz o trabalho do coletor também)\n",
        "redator = agente_redator_aniversario()\n",
        "mensagem_gerada = call_agent(redator, informacoes)\n",
        "print(\"\\n--- 📝 Mensagem Gerada ---\\n\")\n",
        "print(mensagem_gerada)\n",
        "print(\"--------------------------------------------------------------\")\n",
        "\n",
        "# (Opcional) Agente Revisor\n",
        "#revisor = agente_revisor_aniversario()\n",
        "#mensagem_revisada = call_agent(revisor, mensagem_gerada)\n",
        "#print(\"\\n--- 📝 Mensagem Revisada ---\\n\")\n",
        "#print(mensagem_revisada)\n",
        "#print(\"--------------------------------------------------------------\")\n",
        "\n",
        "print(\"\\n🎉 Mensagem de aniversário pronta! 🎉\")"
      ],
      "metadata": {
        "colab": {
          "base_uri": "https://localhost:8080/"
        },
        "id": "6xzI6LKzxxnN",
        "outputId": "f5ae3169-37ae-470c-9fb3-aa6e9134c56a"
      },
      "execution_count": 28,
      "outputs": [
        {
          "output_type": "stream",
          "name": "stdout",
          "text": [
            "🎉 Gerador de Mensagens de Aniversário 🎉\n",
            "🎂  Digite o nome do aniversariante: ruthe\n",
            "✍️  Forneça detalhes sobre o aniversariante (personalidade, interesses, etc.): ela é simpatica e gosta de bike\n",
            "✨  Preparando mensagem para ruthe! ✨\n",
            "DEBUG: call_agent chamado para o agente 'agente_redator_aniversario' com a mensagem: 'Nome: ruthe\\nDetalhes: ela é simpatica e gosta de bike\\nData: 17/05/2025'\n",
            "DEBUG: call_agent recebeu evento: content=Content(parts=[Part(video_metadata=None, thought=None, inline_data=None, code_execution_result=None, executable_code=None, file_data=None, function_call=None, function_response=None, text='## Sugestão de Mensagem de Aniversário para Ruthe:\\n\\n**Opção 1: Aventurosa e Energética**\\n\\nRuthe, que a sua pedalada pela vida continue sempre com o vento a favor e o sol no rosto! Que este novo ano traga trilhas incríveis, paisagens deslumbrantes e muita energia para conquistar todos os seus objetivos. Feliz aniversário! 🚴\\u200d♀️☀️\\n\\n**Opção 2: Simples e Carinhosa**\\n\\nRuthe, uma pessoa tão simpática e especial como você merece um dia radiante! Que seu aniversário seja leve, alegre e cheio de momentos felizes. E que a vida continue te presenteando com muitos motivos para sorrir (e pedalar por aí!). Feliz dia! 😊🎂\\n\\n**Opção 3: Combinando os dois elementos**\\n\\nRuthe, parabéns! Que este novo ciclo seja como uma daquelas suas pedaladas revigorantes: cheio de energia boa, paisagens bonitas e a brisa suave da felicidade. Que a simpatia que você espalha por aí volte em dobro para te aquecer neste dia especial. Feliz aniversário! 🥳🚴\\u200d♀️\\n')], role='model') grounding_metadata=None partial=None turn_complete=None error_code=None error_message=None interrupted=None custom_metadata=None invocation_id='e-2906ac54-47c8-46a0-8da7-8c99ba4a62e5' author='agente_redator_aniversario' actions=EventActions(skip_summarization=None, state_delta={}, artifact_delta={}, transfer_to_agent=None, escalate=None, requested_auth_configs={}) long_running_tool_ids=None branch=None id='wsy95eoK' timestamp=1747521748.940015\n",
            "DEBUG: call_agent retornando: '## Sugestão de Mensagem de Aniversário para Ruthe:\n",
            "\n",
            "**Opção 1: Aventurosa e Energética**\n",
            "\n",
            "Ruthe, que a sua pedalada pela vida continue sempre com o vento a favor e o sol no rosto! Que este novo ano traga trilhas incríveis, paisagens deslumbrantes e muita energia para conquistar todos os seus objetivos. Feliz aniversário! 🚴‍♀️☀️\n",
            "\n",
            "**Opção 2: Simples e Carinhosa**\n",
            "\n",
            "Ruthe, uma pessoa tão simpática e especial como você merece um dia radiante! Que seu aniversário seja leve, alegre e cheio de momentos felizes. E que a vida continue te presenteando com muitos motivos para sorrir (e pedalar por aí!). Feliz dia! 😊🎂\n",
            "\n",
            "**Opção 3: Combinando os dois elementos**\n",
            "\n",
            "Ruthe, parabéns! Que este novo ciclo seja como uma daquelas suas pedaladas revigorantes: cheio de energia boa, paisagens bonitas e a brisa suave da felicidade. Que a simpatia que você espalha por aí volte em dobro para te aquecer neste dia especial. Feliz aniversário! 🥳🚴‍♀️\n",
            "\n",
            "'\n",
            "\n",
            "--- 📝 Mensagem Gerada ---\n",
            "\n",
            "## Sugestão de Mensagem de Aniversário para Ruthe:\n",
            "\n",
            "**Opção 1: Aventurosa e Energética**\n",
            "\n",
            "Ruthe, que a sua pedalada pela vida continue sempre com o vento a favor e o sol no rosto! Que este novo ano traga trilhas incríveis, paisagens deslumbrantes e muita energia para conquistar todos os seus objetivos. Feliz aniversário! 🚴‍♀️☀️\n",
            "\n",
            "**Opção 2: Simples e Carinhosa**\n",
            "\n",
            "Ruthe, uma pessoa tão simpática e especial como você merece um dia radiante! Que seu aniversário seja leve, alegre e cheio de momentos felizes. E que a vida continue te presenteando com muitos motivos para sorrir (e pedalar por aí!). Feliz dia! 😊🎂\n",
            "\n",
            "**Opção 3: Combinando os dois elementos**\n",
            "\n",
            "Ruthe, parabéns! Que este novo ciclo seja como uma daquelas suas pedaladas revigorantes: cheio de energia boa, paisagens bonitas e a brisa suave da felicidade. Que a simpatia que você espalha por aí volte em dobro para te aquecer neste dia especial. Feliz aniversário! 🥳🚴‍♀️\n",
            "\n",
            "\n",
            "--------------------------------------------------------------\n",
            "\n",
            "🎉 Mensagem de aniversário pronta! 🎉\n"
          ]
        }
      ]
    }
  ]
}